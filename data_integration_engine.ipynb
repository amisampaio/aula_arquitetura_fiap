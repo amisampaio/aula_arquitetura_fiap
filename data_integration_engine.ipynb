{
  "nbformat": 4,
  "nbformat_minor": 0,
  "metadata": {
    "colab": {
      "name": "data integration engine.ipynb",
      "version": "0.3.2",
      "provenance": [],
      "collapsed_sections": [],
      "include_colab_link": true
    },
    "kernelspec": {
      "name": "python3",
      "display_name": "Python 3"
    }
  },
  "cells": [
    {
      "cell_type": "markdown",
      "metadata": {
        "id": "view-in-github",
        "colab_type": "text"
      },
      "source": [
        "<a href=\"https://colab.research.google.com/github/amisampaio/aula_arquitetura_fiap/blob/master/data_integration_engine.ipynb\" target=\"_parent\"><img src=\"https://colab.research.google.com/assets/colab-badge.svg\" alt=\"Open In Colab\"/></a>"
      ]
    },
    {
      "cell_type": "markdown",
      "metadata": {
        "id": "jhWsu1BeIKxs",
        "colab_type": "text"
      },
      "source": [
        "# Import libs "
      ]
    },
    {
      "cell_type": "code",
      "metadata": {
        "id": "tJY1if9HIIGH",
        "colab_type": "code",
        "colab": {}
      },
      "source": [
        "#Biblioteca de manilpulacao de dataframe\n",
        "import pandas as pd\n",
        "from pandas import *"
      ],
      "execution_count": 0,
      "outputs": []
    },
    {
      "cell_type": "markdown",
      "metadata": {
        "id": "OGzT8miRII8c",
        "colab_type": "text"
      },
      "source": [
        "# Import a CSV File"
      ]
    },
    {
      "cell_type": "markdown",
      "metadata": {
        "id": "lrGq2K4tIhE1",
        "colab_type": "text"
      },
      "source": [
        "## From Git"
      ]
    },
    {
      "cell_type": "code",
      "metadata": {
        "id": "gLcTzb4wHLs9",
        "colab_type": "code",
        "colab": {}
      },
      "source": [
        "import pandas as pd\n",
        "\n",
        "url = 'https://github.com/amisampaio/python_integration/tree/master/data/examples/'\n",
        "file = 'file_example.csv'\n",
        "separator = \";\"\n",
        "decimal = \",\"\n",
        "encode = 'iso-8859-1'\n",
        "arquivo_csv = pd.read_csv(file, encoding = encode, delimiter = separator , decimal = decimal)\n",
        "\n",
        "print(\"\\n ------------------------------------------------------------------------------------------------\\n\")\n",
        "print(colored(\"Dataframe Arquivo CSV\",\"green\")+ \"\\n\")\n",
        "display(arquivo_csv.head(3))"
      ],
      "execution_count": 0,
      "outputs": []
    }
  ]
}